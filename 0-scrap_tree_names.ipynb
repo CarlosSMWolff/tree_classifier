{
 "cells": [
  {
   "cell_type": "code",
   "execution_count": 2,
   "metadata": {},
   "outputs": [],
   "source": [
    "# import libraries\n",
    "import requests\n",
    "from selenium import webdriver\n",
    "import time"
   ]
  },
  {
   "cell_type": "code",
   "execution_count": 5,
   "metadata": {},
   "outputs": [],
   "source": [
    "# specify the url\n",
    "urlpage = 'https://forest.jrc.ec.europa.eu/en/european-atlas/atlas-data-and-metadata/'\n",
    "# run firefox webdriver from executable path of your choice\n",
    "driver = webdriver.Firefox()\n",
    "# get web page\n",
    "driver.get(urlpage)\n",
    "# sleep for 2s\n",
    "time.sleep(2)"
   ]
  },
  {
   "cell_type": "code",
   "execution_count": 30,
   "metadata": {},
   "outputs": [],
   "source": [
    "latin_els=driver.find_elements_by_class_name(\"chp-latin\")\n",
    "common_els=driver.find_elements_by_class_name(\"chp-common\")"
   ]
  },
  {
   "cell_type": "code",
   "execution_count": 32,
   "metadata": {},
   "outputs": [],
   "source": [
    "latin_names = [element.text for element in latin_els[1:]]\n",
    "common_names = [element.text for element in common_els[1:]]"
   ]
  },
  {
   "cell_type": "code",
   "execution_count": 33,
   "metadata": {},
   "outputs": [],
   "source": [
    "latin_names_curated = []\n",
    "common_names_curated = []\n",
    "\n",
    "for idx in range(len(latin_names)):\n",
    "    if (\"└─\" not in latin_names[idx]) and (\"└─\" in latin_names[idx+1]):\n",
    "        None\n",
    "    else:\n",
    "        latin_names_curated.append((latin_names[idx]).replace('└─',''))\n",
    "        common_names_curated.append((common_names[idx]).replace('└─',''))\n",
    "\n"
   ]
  },
  {
   "cell_type": "code",
   "execution_count": 34,
   "metadata": {},
   "outputs": [],
   "source": [
    "dict_names = dict(zip(latin_names_curated, common_names_curated))"
   ]
  },
  {
   "cell_type": "code",
   "execution_count": 35,
   "metadata": {},
   "outputs": [
    {
     "data": {
      "text/plain": [
       "'Wych elm'"
      ]
     },
     "execution_count": 35,
     "metadata": {},
     "output_type": "execute_result"
    }
   ],
   "source": [
    "dict_names[' Ulmus glabra']"
   ]
  },
  {
   "cell_type": "markdown",
   "metadata": {},
   "source": [
    "## Save dictionary"
   ]
  },
  {
   "cell_type": "code",
   "execution_count": 36,
   "metadata": {},
   "outputs": [],
   "source": [
    "import pickle\n",
    "\n",
    "# create a binary pickle file \n",
    "f = open(\"dict_tree.pkl\",\"wb\")\n",
    "# write the python object (dict) to pickle file\n",
    "pickle.dump(dict_names,f)\n",
    "# close file\n",
    "f.close()\n"
   ]
  }
 ],
 "metadata": {
  "kernelspec": {
   "display_name": "Python 3.8.5 ('base')",
   "language": "python",
   "name": "python3"
  },
  "language_info": {
   "codemirror_mode": {
    "name": "ipython",
    "version": 3
   },
   "file_extension": ".py",
   "mimetype": "text/x-python",
   "name": "python",
   "nbconvert_exporter": "python",
   "pygments_lexer": "ipython3",
   "version": "3.8.5"
  },
  "orig_nbformat": 4,
  "vscode": {
   "interpreter": {
    "hash": "24b4a5161a7dbc0ca27ec4b8da98573896bbc73acee81e4a10592b94f9185a1a"
   }
  }
 },
 "nbformat": 4,
 "nbformat_minor": 2
}
